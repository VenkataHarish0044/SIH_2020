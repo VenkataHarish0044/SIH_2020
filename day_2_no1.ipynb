{
 "cells": [
  {
   "cell_type": "code",
   "execution_count": 1,
   "metadata": {},
   "outputs": [],
   "source": [
    "def chunk_time(nf_chunks,recognized_text,silence_ranges):\n",
    "    print(\"Language identification started\")\n",
    "    chunk_dur=[]\n",
    "    for i in range(0,nf_chunks):\n",
    "        chunk_dur.append(recognized_text[i][2])\n",
    "    for i in range(0,nf_chunks):\n",
    "        if(len(chunk_dur)==len(silence_ranges)):\n",
    "            chunk_dur[i]+=(silence_ranges[i][1]-silence_ranges[i][0])/1000\n",
    "        elif(len(chunk_dur) < len(silence_ranges)):\n",
    "            if(i==0):\n",
    "                chunk_dur[i]+=(silence_ranges[i][1]-silence_ranges[i][0])/1000 +(silence_ranges[i+1][1]-silence_ranges[i+1][0])/1000\n",
    "            else:\n",
    "                chunk_dur[i]+=(silence_ranges[i+1][1]-silence_ranges[i+1][0])/1000\n",
    "        elif(len(chunk_dur) > len(silence_ranges)):\n",
    "            if(i<len(silence_ranges)):\n",
    "                chunk_dur[i]+=(silence_ranges[i][1]-silence_ranges[i][0])/1000\n",
    "    return chunk_dur\n",
    "\n",
    "\n",
    "\n",
    "\n"
   ]
  },
  {
   "cell_type": "code",
   "execution_count": null,
   "metadata": {},
   "outputs": [],
   "source": [
    "global lang\n",
    "def lang_files():\n",
    "    \n",
    "    lang=[\"telugu\",\"tamil\",\"hindi\",\"english\",\"bengali\",\"kannada\",\"mixed\",\"unknown\"]\n",
    "    lang_dir={}\n",
    "    for i in lang:\n",
    "        L = [line.rstrip('\\n') for line in open(\"./dataset/{0}20.txt\".format(i),encoding=\"utf8\")]\n",
    "        #print(L)\n",
    "        if len(L)!=0:\n",
    "            lang_dir[\"{0}\".format(i)]=L[0].split()\n",
    "        else:\n",
    "            lang_dir[\"{0}\".format(i)]=[]\n",
    "    return lang,lang_dir"
   ]
  }
 ],
 "metadata": {
  "kernelspec": {
   "display_name": "Python 3",
   "language": "python",
   "name": "python3"
  },
  "language_info": {
   "codemirror_mode": {
    "name": "ipython",
    "version": 3
   },
   "file_extension": ".py",
   "mimetype": "text/x-python",
   "name": "python",
   "nbconvert_exporter": "python",
   "pygments_lexer": "ipython3",
   "version": "3.7.8"
  }
 },
 "nbformat": 4,
 "nbformat_minor": 4
}
