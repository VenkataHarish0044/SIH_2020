{
 "cells": [
  {
   "cell_type": "markdown",
   "metadata": {},
   "source": [
    "<h1> SIH2020<h1>\n",
    "<h2>Day-one-activity-HunTer_SQuaD<h2>\n",
    "<h4>Importing modules<h4>\n",
    "Note: Modules may change or may add some more modules for final code."
   ]
  },
  {
   "cell_type": "code",
   "execution_count": null,
   "metadata": {},
   "outputs": [],
   "source": [
    "from pydub import AudioSegment\n",
    "import IPython\n",
    "import math\n",
    "import noisereduce as nr\n",
    "from array import *\n",
    "import numpy\n",
    "from scipy.io import wavfile\n",
    "from scipy.io.wavfile import write\n",
    "import matplotlib.pyplot as plt\n",
    "import os\n",
    "import sys\n",
    "import speech_recognition as sr\n",
    "import wave\n",
    "import contextlib as cl\n",
    "import re\n",
    "import soundfile as sf\n",
    "from pydub import AudioSegment\n",
    "from pydub.playback import play \n",
    "from pydub.silence import split_on_silence\n",
    "from pydub.silence import detect_silence"
   ]
  },
  {
   "cell_type": "markdown",
   "metadata": {},
   "source": [
    "<h4>Performing Noise Elimination</h4>"
   ]
  },
  {
   "cell_type": "code",
   "execution_count": null,
   "metadata": {},
   "outputs": [],
   "source": [
    "def noise_reduce(audio_data,rate,win_length,amp_adjust):\n",
    "    \n",
    "    import noisereduce as nr\n",
    "    \n",
    "    mean=0\n",
    "    noise_list=[]\n",
    "    mean_list=[]\n",
    "    win_length=win_length\n",
    "    amp_adjust=amp_adjust\n",
    "    for j in range(0,len(audio_data)):\n",
    "        if(j>0 and j%win_length==0):   \n",
    "            mean=math.sqrt(mean/win_length)\n",
    "            \n",
    "            mean_list.append(mean)\n",
    "            mean=0\n",
    "            mean+=audio_data[j]**2\n",
    "        else:\n",
    "            mean+=audio_data[j]**2\n",
    "    k=0\n",
    "    \n",
    "    for i in range(0,len(mean_list)):\n",
    "        if i>0 and i<len(mean_list)-1:\n",
    "            if(mean_list[i-1]<mean_list[i]+amp_adjust and mean_list[i-1]>mean_list[i]-amp_adjust):\n",
    "                if(mean_list[i+1]<mean_list[i]+amp_adjust and mean_list[i+1]>mean_list[i]-amp_adjust):\n",
    "                    if k==0:\n",
    "                        noise_list.append((i-1)*win_length)\n",
    "                        k+=1\n",
    "                else:\n",
    "                    if(k>0):\n",
    "                        noise_list.append((i+1)*win_length)\n",
    "                        k=0\n",
    "                    else:\n",
    "                        k=0\n",
    "                        noise_list.append((i-1)*win_length)\n",
    "                        noise_list.append((i+1)*win_length)\n",
    "        elif(i==len(mean_list)-1):\n",
    "            if(mean_list[i-1]<mean_list[i]+amp_adjust and mean_list[i-1]>mean_list[i]-amp_adjust):\n",
    "                noise_list.append((i+1)*win_length)\n",
    "                \n",
    "\n",
    "    diff=0\n",
    "    for i in range(0,len(noise_list)-1):\n",
    "        if(i%2==0):\n",
    "            if(noise_list[i+1]-noise_list[i] > diff):\n",
    "                diff = noise_list[i+1]-noise_list[i]\n",
    "                noise_start = noise_list[i]+win_length\n",
    "                noise_stop = noise_list[i+1]-win_length\n",
    "    noisy_part =audio_data[noise_start:noise_stop]\n",
    "    nr_data = nr.reduce_noise(audio_clip=audio_data1, noise_clip=noisy_part,n_grad_freq=2,n_grad_time=16,n_fft=2048,win_length=2048,hop_length=512,n_std_thresh=1.5,prop_decrease=1.0, verbose=True,)\n",
    "    fig, ax = plt.subplots(figsize=(20,4))\n",
    "    ax.plot(audio_data)\n",
    "    fig, ax = plt.subplots(figsize=(20,4))\n",
    "    ax.plot(nr_data)"
   ]
  },
  {
   "cell_type": "code",
   "execution_count": null,
   "metadata": {},
   "outputs": [],
   "source": [
    "input_audio=input(\"enter the name of the audio file:\")\n",
    "audio_data,rate = sf.read(input_audio)\n",
    "dur=(len(audio_data)+1)/float(rate)\n",
    "if(dur<15):\n",
    "    exit()\n",
    "if(audio_data.ndim > 1):\n",
    "    audio_data=np.delete(audio_data,slice(1),1)\n",
    "    audio_data=np.delete(audio_data,slice(1),None)\n",
    "audio_data=audio_data/32768\n",
    "#print(1)\n",
    "chunk_silent=100\n",
    "noise_reduce(audio_data,rate,win_length=5000,amp_adjust=0.005)\n",
    "chunk_rate,nf_chunks,silent_ranges=segmentation(min_silence_len=300,silence_thresh=-50,chunk_silent=chunk_silent)"
   ]
  },
  {
   "cell_type": "markdown",
   "metadata": {},
   "source": [
    "<h4>Recognizing the Audio<h4>"
   ]
  },
  {
   "cell_type": "code",
   "execution_count": null,
   "metadata": {},
   "outputs": [],
   "source": []
  }
 ],
 "metadata": {
  "kernelspec": {
   "display_name": "Python 3",
   "language": "python",
   "name": "python3"
  },
  "language_info": {
   "codemirror_mode": {
    "name": "ipython",
    "version": 3
   },
   "file_extension": ".py",
   "mimetype": "text/x-python",
   "name": "python",
   "nbconvert_exporter": "python",
   "pygments_lexer": "ipython3",
   "version": "3.7.8"
  }
 },
 "nbformat": 4,
 "nbformat_minor": 2
}
